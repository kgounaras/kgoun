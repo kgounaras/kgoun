{
 "cells": [
  {
   "cell_type": "markdown",
   "metadata": {},
   "source": [
    "# Examples using the technical analysis libraries (ta and talib_wrapper)"
   ]
  },
  {
   "cell_type": "markdown",
   "metadata": {},
   "source": [
    "## tia package (pure python)"
   ]
  },
  {
   "cell_type": "code",
   "execution_count": 1,
   "metadata": {
    "collapsed": false
   },
   "outputs": [],
   "source": [
    "import tia.analysis.ta as ta\n",
    "import tia.analysis.model as model"
   ]
  },
  {
   "cell_type": "code",
   "execution_count": 2,
   "metadata": {
    "collapsed": false
   },
   "outputs": [
    {
     "name": "stderr",
     "output_type": "stream",
     "text": [
      "C:\\Anaconda\\lib\\site-packages\\pandas\\tseries\\base.py:363: FutureWarning: using '-' to provide set differences with datetimelike Indexes is deprecated, use .difference()\n",
      "  \"use .difference()\",FutureWarning)\n",
      "C:\\Anaconda\\lib\\site-packages\\pandas\\core\\index.py:1196: FutureWarning: using '-' to provide set differences with Indexes is deprecated, use .difference()\n",
      "  \"use .difference()\",FutureWarning)\n"
     ]
    }
   ],
   "source": [
    "secs = model.load_yahoo_stock(['MSFT', 'INTC'], start='1/1/2000')"
   ]
  },
  {
   "cell_type": "code",
   "execution_count": 3,
   "metadata": {
    "collapsed": false
   },
   "outputs": [
    {
     "data": {
      "text/html": [
       "<div style=\"max-height:1000px;max-width:1500px;overflow:auto;\">\n",
       "<table border=\"1\" class=\"dataframe\">\n",
       "  <thead>\n",
       "    <tr>\n",
       "      <th></th>\n",
       "      <th colspan=\"7\" halign=\"left\">INTC</th>\n",
       "      <th colspan=\"7\" halign=\"left\">MSFT</th>\n",
       "    </tr>\n",
       "    <tr>\n",
       "      <th></th>\n",
       "      <th>open</th>\n",
       "      <th>high</th>\n",
       "      <th>low</th>\n",
       "      <th>close</th>\n",
       "      <th>volume</th>\n",
       "      <th>adj close</th>\n",
       "      <th>dvds</th>\n",
       "      <th>open</th>\n",
       "      <th>high</th>\n",
       "      <th>low</th>\n",
       "      <th>close</th>\n",
       "      <th>volume</th>\n",
       "      <th>adj close</th>\n",
       "      <th>dvds</th>\n",
       "    </tr>\n",
       "    <tr>\n",
       "      <th>Date</th>\n",
       "      <th></th>\n",
       "      <th></th>\n",
       "      <th></th>\n",
       "      <th></th>\n",
       "      <th></th>\n",
       "      <th></th>\n",
       "      <th></th>\n",
       "      <th></th>\n",
       "      <th></th>\n",
       "      <th></th>\n",
       "      <th></th>\n",
       "      <th></th>\n",
       "      <th></th>\n",
       "      <th></th>\n",
       "    </tr>\n",
       "  </thead>\n",
       "  <tbody>\n",
       "    <tr>\n",
       "      <th>2000-01-03</th>\n",
       "      <td>83.26562</td>\n",
       "      <td>87.375</td>\n",
       "      <td>83.2500</td>\n",
       "      <td>87.0000</td>\n",
       "      <td>57710200</td>\n",
       "      <td>31.97828</td>\n",
       "      <td>NaN</td>\n",
       "      <td>117.3750</td>\n",
       "      <td>118.625</td>\n",
       "      <td>112.0000</td>\n",
       "      <td>116.5625</td>\n",
       "      <td>53228400</td>\n",
       "      <td>41.47075</td>\n",
       "      <td>NaN</td>\n",
       "    </tr>\n",
       "    <tr>\n",
       "      <th>2000-01-04</th>\n",
       "      <td>85.43750</td>\n",
       "      <td>87.875</td>\n",
       "      <td>82.2500</td>\n",
       "      <td>82.9375</td>\n",
       "      <td>51019600</td>\n",
       "      <td>30.48504</td>\n",
       "      <td>NaN</td>\n",
       "      <td>113.5625</td>\n",
       "      <td>117.125</td>\n",
       "      <td>112.2500</td>\n",
       "      <td>112.6250</td>\n",
       "      <td>54119000</td>\n",
       "      <td>40.06986</td>\n",
       "      <td>NaN</td>\n",
       "    </tr>\n",
       "    <tr>\n",
       "      <th>2000-01-05</th>\n",
       "      <td>83.00000</td>\n",
       "      <td>85.875</td>\n",
       "      <td>80.5000</td>\n",
       "      <td>83.6250</td>\n",
       "      <td>52389000</td>\n",
       "      <td>30.73774</td>\n",
       "      <td>NaN</td>\n",
       "      <td>111.1250</td>\n",
       "      <td>116.375</td>\n",
       "      <td>109.3750</td>\n",
       "      <td>113.8125</td>\n",
       "      <td>64059600</td>\n",
       "      <td>40.49235</td>\n",
       "      <td>NaN</td>\n",
       "    </tr>\n",
       "    <tr>\n",
       "      <th>2000-01-06</th>\n",
       "      <td>81.75000</td>\n",
       "      <td>83.375</td>\n",
       "      <td>78.1875</td>\n",
       "      <td>78.7500</td>\n",
       "      <td>55171200</td>\n",
       "      <td>28.94586</td>\n",
       "      <td>NaN</td>\n",
       "      <td>112.1875</td>\n",
       "      <td>113.875</td>\n",
       "      <td>108.3750</td>\n",
       "      <td>110.0000</td>\n",
       "      <td>54976600</td>\n",
       "      <td>39.13594</td>\n",
       "      <td>NaN</td>\n",
       "    </tr>\n",
       "    <tr>\n",
       "      <th>2000-01-07</th>\n",
       "      <td>77.50000</td>\n",
       "      <td>82.000</td>\n",
       "      <td>77.3750</td>\n",
       "      <td>82.0000</td>\n",
       "      <td>41096400</td>\n",
       "      <td>30.14045</td>\n",
       "      <td>NaN</td>\n",
       "      <td>108.6250</td>\n",
       "      <td>112.250</td>\n",
       "      <td>107.3125</td>\n",
       "      <td>111.4375</td>\n",
       "      <td>62013600</td>\n",
       "      <td>39.64737</td>\n",
       "      <td>NaN</td>\n",
       "    </tr>\n",
       "  </tbody>\n",
       "</table>\n",
       "</div>"
      ],
      "text/plain": [
       "                INTC                                                     \\\n",
       "                open    high      low    close    volume adj close dvds   \n",
       "Date                                                                      \n",
       "2000-01-03  83.26562  87.375  83.2500  87.0000  57710200  31.97828  NaN   \n",
       "2000-01-04  85.43750  87.875  82.2500  82.9375  51019600  30.48504  NaN   \n",
       "2000-01-05  83.00000  85.875  80.5000  83.6250  52389000  30.73774  NaN   \n",
       "2000-01-06  81.75000  83.375  78.1875  78.7500  55171200  28.94586  NaN   \n",
       "2000-01-07  77.50000  82.000  77.3750  82.0000  41096400  30.14045  NaN   \n",
       "\n",
       "                MSFT                                                        \n",
       "                open     high       low     close    volume adj close dvds  \n",
       "Date                                                                        \n",
       "2000-01-03  117.3750  118.625  112.0000  116.5625  53228400  41.47075  NaN  \n",
       "2000-01-04  113.5625  117.125  112.2500  112.6250  54119000  40.06986  NaN  \n",
       "2000-01-05  111.1250  116.375  109.3750  113.8125  64059600  40.49235  NaN  \n",
       "2000-01-06  112.1875  113.875  108.3750  110.0000  54976600  39.13594  NaN  \n",
       "2000-01-07  108.6250  112.250  107.3125  111.4375  62013600  39.64737  NaN  "
      ]
     },
     "execution_count": 3,
     "metadata": {},
     "output_type": "execute_result"
    }
   ],
   "source": [
    "pxs = secs.frame\n",
    "pxs.head()"
   ]
  },
  {
   "cell_type": "code",
   "execution_count": 4,
   "metadata": {
    "collapsed": false
   },
   "outputs": [
    {
     "data": {
      "text/html": [
       "<div style=\"max-height:1000px;max-width:1500px;overflow:auto;\">\n",
       "<table border=\"1\" class=\"dataframe\">\n",
       "  <thead>\n",
       "    <tr style=\"text-align: right;\">\n",
       "      <th></th>\n",
       "      <th>INTC</th>\n",
       "      <th>MSFT</th>\n",
       "    </tr>\n",
       "    <tr>\n",
       "      <th>Date</th>\n",
       "      <th></th>\n",
       "      <th></th>\n",
       "    </tr>\n",
       "  </thead>\n",
       "  <tbody>\n",
       "    <tr>\n",
       "      <th>2000-01-03</th>\n",
       "      <td>87.0000</td>\n",
       "      <td>116.5625</td>\n",
       "    </tr>\n",
       "    <tr>\n",
       "      <th>2000-01-04</th>\n",
       "      <td>82.9375</td>\n",
       "      <td>112.6250</td>\n",
       "    </tr>\n",
       "    <tr>\n",
       "      <th>2000-01-05</th>\n",
       "      <td>83.6250</td>\n",
       "      <td>113.8125</td>\n",
       "    </tr>\n",
       "    <tr>\n",
       "      <th>2000-01-06</th>\n",
       "      <td>78.7500</td>\n",
       "      <td>110.0000</td>\n",
       "    </tr>\n",
       "    <tr>\n",
       "      <th>2000-01-07</th>\n",
       "      <td>82.0000</td>\n",
       "      <td>111.4375</td>\n",
       "    </tr>\n",
       "  </tbody>\n",
       "</table>\n",
       "</div>"
      ],
      "text/plain": [
       "               INTC      MSFT\n",
       "Date                         \n",
       "2000-01-03  87.0000  116.5625\n",
       "2000-01-04  82.9375  112.6250\n",
       "2000-01-05  83.6250  113.8125\n",
       "2000-01-06  78.7500  110.0000\n",
       "2000-01-07  82.0000  111.4375"
      ]
     },
     "execution_count": 4,
     "metadata": {},
     "output_type": "execute_result"
    }
   ],
   "source": [
    "close = pxs.swaplevel(1, 0, axis=1).close\n",
    "close.head()"
   ]
  },
  {
   "cell_type": "code",
   "execution_count": 5,
   "metadata": {
    "collapsed": false
   },
   "outputs": [
    {
     "data": {
      "text/html": [
       "<div style=\"max-height:1000px;max-width:1500px;overflow:auto;\">\n",
       "<table border=\"1\" class=\"dataframe\">\n",
       "  <thead>\n",
       "    <tr style=\"text-align: right;\">\n",
       "      <th></th>\n",
       "      <th>INTC</th>\n",
       "      <th>MSFT</th>\n",
       "    </tr>\n",
       "    <tr>\n",
       "      <th>Date</th>\n",
       "      <th></th>\n",
       "      <th></th>\n",
       "    </tr>\n",
       "  </thead>\n",
       "  <tbody>\n",
       "    <tr>\n",
       "      <th>2015-04-20</th>\n",
       "      <td>31.986</td>\n",
       "      <td>41.851</td>\n",
       "    </tr>\n",
       "    <tr>\n",
       "      <th>2015-04-21</th>\n",
       "      <td>32.103</td>\n",
       "      <td>41.962</td>\n",
       "    </tr>\n",
       "    <tr>\n",
       "      <th>2015-04-22</th>\n",
       "      <td>32.242</td>\n",
       "      <td>42.119</td>\n",
       "    </tr>\n",
       "    <tr>\n",
       "      <th>2015-04-23</th>\n",
       "      <td>32.353</td>\n",
       "      <td>42.305</td>\n",
       "    </tr>\n",
       "    <tr>\n",
       "      <th>2015-04-24</th>\n",
       "      <td>32.368</td>\n",
       "      <td>42.920</td>\n",
       "    </tr>\n",
       "  </tbody>\n",
       "</table>\n",
       "</div>"
      ],
      "text/plain": [
       "              INTC    MSFT\n",
       "Date                      \n",
       "2015-04-20  31.986  41.851\n",
       "2015-04-21  32.103  41.962\n",
       "2015-04-22  32.242  42.119\n",
       "2015-04-23  32.353  42.305\n",
       "2015-04-24  32.368  42.920"
      ]
     },
     "execution_count": 5,
     "metadata": {},
     "output_type": "execute_result"
    }
   ],
   "source": [
    "# moving average calculation\n",
    "ta.SMA(close, 10).tail()"
   ]
  },
  {
   "cell_type": "code",
   "execution_count": 6,
   "metadata": {
    "collapsed": false
   },
   "outputs": [
    {
     "data": {
      "text/html": [
       "<div style=\"max-height:1000px;max-width:1500px;overflow:auto;\">\n",
       "<table border=\"1\" class=\"dataframe\">\n",
       "  <thead>\n",
       "    <tr>\n",
       "      <th></th>\n",
       "      <th colspan=\"5\" halign=\"left\">INTC</th>\n",
       "      <th colspan=\"5\" halign=\"left\">MSFT</th>\n",
       "    </tr>\n",
       "    <tr>\n",
       "      <th></th>\n",
       "      <th>MACD_FAST</th>\n",
       "      <th>MACD_SLOW</th>\n",
       "      <th>MACD</th>\n",
       "      <th>MACD_SIGNAL</th>\n",
       "      <th>MACD_HIST</th>\n",
       "      <th>MACD_FAST</th>\n",
       "      <th>MACD_SLOW</th>\n",
       "      <th>MACD</th>\n",
       "      <th>MACD_SIGNAL</th>\n",
       "      <th>MACD_HIST</th>\n",
       "    </tr>\n",
       "    <tr>\n",
       "      <th>Date</th>\n",
       "      <th></th>\n",
       "      <th></th>\n",
       "      <th></th>\n",
       "      <th></th>\n",
       "      <th></th>\n",
       "      <th></th>\n",
       "      <th></th>\n",
       "      <th></th>\n",
       "      <th></th>\n",
       "      <th></th>\n",
       "    </tr>\n",
       "  </thead>\n",
       "  <tbody>\n",
       "    <tr>\n",
       "      <th>2015-04-20</th>\n",
       "      <td>32.025370</td>\n",
       "      <td>31.919124</td>\n",
       "      <td>0.106247</td>\n",
       "      <td>-0.172275</td>\n",
       "      <td>0.278522</td>\n",
       "      <td>41.886691</td>\n",
       "      <td>41.936118</td>\n",
       "      <td>-0.049427</td>\n",
       "      <td>-0.254985</td>\n",
       "      <td>0.205558</td>\n",
       "    </tr>\n",
       "    <tr>\n",
       "      <th>2015-04-21</th>\n",
       "      <td>32.087621</td>\n",
       "      <td>31.956966</td>\n",
       "      <td>0.130655</td>\n",
       "      <td>-0.111689</td>\n",
       "      <td>0.242344</td>\n",
       "      <td>42.002585</td>\n",
       "      <td>41.988257</td>\n",
       "      <td>0.014328</td>\n",
       "      <td>-0.201122</td>\n",
       "      <td>0.215450</td>\n",
       "    </tr>\n",
       "    <tr>\n",
       "      <th>2015-04-22</th>\n",
       "      <td>32.181833</td>\n",
       "      <td>32.012006</td>\n",
       "      <td>0.169827</td>\n",
       "      <td>-0.055386</td>\n",
       "      <td>0.225213</td>\n",
       "      <td>42.154495</td>\n",
       "      <td>42.062460</td>\n",
       "      <td>0.092034</td>\n",
       "      <td>-0.142491</td>\n",
       "      <td>0.234525</td>\n",
       "    </tr>\n",
       "    <tr>\n",
       "      <th>2015-04-23</th>\n",
       "      <td>32.207705</td>\n",
       "      <td>32.037042</td>\n",
       "      <td>0.170662</td>\n",
       "      <td>-0.010176</td>\n",
       "      <td>0.180839</td>\n",
       "      <td>42.336880</td>\n",
       "      <td>42.157093</td>\n",
       "      <td>0.179787</td>\n",
       "      <td>-0.078035</td>\n",
       "      <td>0.257823</td>\n",
       "    </tr>\n",
       "    <tr>\n",
       "      <th>2015-04-24</th>\n",
       "      <td>32.188058</td>\n",
       "      <td>32.040224</td>\n",
       "      <td>0.147834</td>\n",
       "      <td>0.021426</td>\n",
       "      <td>0.126408</td>\n",
       "      <td>43.188129</td>\n",
       "      <td>42.580271</td>\n",
       "      <td>0.607858</td>\n",
       "      <td>0.059143</td>\n",
       "      <td>0.548715</td>\n",
       "    </tr>\n",
       "  </tbody>\n",
       "</table>\n",
       "</div>"
      ],
      "text/plain": [
       "                 INTC                                                  MSFT  \\\n",
       "            MACD_FAST  MACD_SLOW      MACD MACD_SIGNAL MACD_HIST  MACD_FAST   \n",
       "Date                                                                          \n",
       "2015-04-20  32.025370  31.919124  0.106247   -0.172275  0.278522  41.886691   \n",
       "2015-04-21  32.087621  31.956966  0.130655   -0.111689  0.242344  42.002585   \n",
       "2015-04-22  32.181833  32.012006  0.169827   -0.055386  0.225213  42.154495   \n",
       "2015-04-23  32.207705  32.037042  0.170662   -0.010176  0.180839  42.336880   \n",
       "2015-04-24  32.188058  32.040224  0.147834    0.021426  0.126408  43.188129   \n",
       "\n",
       "                                                       \n",
       "            MACD_SLOW      MACD MACD_SIGNAL MACD_HIST  \n",
       "Date                                                   \n",
       "2015-04-20  41.936118 -0.049427   -0.254985  0.205558  \n",
       "2015-04-21  41.988257  0.014328   -0.201122  0.215450  \n",
       "2015-04-22  42.062460  0.092034   -0.142491  0.234525  \n",
       "2015-04-23  42.157093  0.179787   -0.078035  0.257823  \n",
       "2015-04-24  42.580271  0.607858    0.059143  0.548715  "
      ]
     },
     "execution_count": 6,
     "metadata": {},
     "output_type": "execute_result"
    }
   ],
   "source": [
    "# macd\n",
    "ta.MACD(close).tail()"
   ]
  },
  {
   "cell_type": "code",
   "execution_count": 7,
   "metadata": {
    "collapsed": false
   },
   "outputs": [
    {
     "data": {
      "text/html": [
       "<div style=\"max-height:1000px;max-width:1500px;overflow:auto;\">\n",
       "<table border=\"1\" class=\"dataframe\">\n",
       "  <thead>\n",
       "    <tr style=\"text-align: right;\">\n",
       "      <th></th>\n",
       "      <th>INTC</th>\n",
       "      <th>MSFT</th>\n",
       "    </tr>\n",
       "    <tr>\n",
       "      <th>Date</th>\n",
       "      <th></th>\n",
       "      <th></th>\n",
       "    </tr>\n",
       "  </thead>\n",
       "  <tbody>\n",
       "    <tr>\n",
       "      <th>2015-04-20</th>\n",
       "      <td>57.489183</td>\n",
       "      <td>59.218833</td>\n",
       "    </tr>\n",
       "    <tr>\n",
       "      <th>2015-04-21</th>\n",
       "      <td>54.419580</td>\n",
       "      <td>56.288763</td>\n",
       "    </tr>\n",
       "    <tr>\n",
       "      <th>2015-04-22</th>\n",
       "      <td>56.662369</td>\n",
       "      <td>59.112946</td>\n",
       "    </tr>\n",
       "    <tr>\n",
       "      <th>2015-04-23</th>\n",
       "      <td>53.020355</td>\n",
       "      <td>61.772796</td>\n",
       "    </tr>\n",
       "    <tr>\n",
       "      <th>2015-04-24</th>\n",
       "      <td>50.332676</td>\n",
       "      <td>79.951610</td>\n",
       "    </tr>\n",
       "  </tbody>\n",
       "</table>\n",
       "</div>"
      ],
      "text/plain": [
       "                 INTC       MSFT\n",
       "Date                            \n",
       "2015-04-20  57.489183  59.218833\n",
       "2015-04-21  54.419580  56.288763\n",
       "2015-04-22  56.662369  59.112946\n",
       "2015-04-23  53.020355  61.772796\n",
       "2015-04-24  50.332676  79.951610"
      ]
     },
     "execution_count": 7,
     "metadata": {},
     "output_type": "execute_result"
    }
   ],
   "source": [
    "# rsi\n",
    "ta.RSI(close, n=14).tail()"
   ]
  },
  {
   "cell_type": "code",
   "execution_count": 8,
   "metadata": {
    "collapsed": false
   },
   "outputs": [
    {
     "data": {
      "text/plain": [
       "Date\n",
       "2015-04-20   -1\n",
       "2015-04-21   -1\n",
       "2015-04-22   -1\n",
       "2015-04-23   -1\n",
       "2015-04-24   -1\n",
       "dtype: float64"
      ]
     },
     "execution_count": 8,
     "metadata": {},
     "output_type": "execute_result"
    }
   ],
   "source": [
    "# determine when 50 crosses the 200\n",
    "cross = ta.cross_signal(ta.sma(close.MSFT, 50), ta.sma(close.MSFT, 200))\n",
    "cross.tail()"
   ]
  },
  {
   "cell_type": "markdown",
   "metadata": {},
   "source": [
    "## ta-lib wrapper\n",
    "Provide ability to call ta-lib with DataFrame or Series which may contain NaN values. "
   ]
  },
  {
   "cell_type": "code",
   "execution_count": 9,
   "metadata": {
    "collapsed": false
   },
   "outputs": [],
   "source": [
    "import tia.analysis.talib_wrapper as talib"
   ]
  },
  {
   "cell_type": "code",
   "execution_count": 10,
   "metadata": {
    "collapsed": false
   },
   "outputs": [
    {
     "data": {
      "text/html": [
       "<div style=\"max-height:1000px;max-width:1500px;overflow:auto;\">\n",
       "<table border=\"1\" class=\"dataframe\">\n",
       "  <thead>\n",
       "    <tr>\n",
       "      <th></th>\n",
       "      <th colspan=\"3\" halign=\"left\">INTC</th>\n",
       "      <th colspan=\"3\" halign=\"left\">MSFT</th>\n",
       "    </tr>\n",
       "    <tr>\n",
       "      <th></th>\n",
       "      <th>MACD</th>\n",
       "      <th>MACD_SIGNAL</th>\n",
       "      <th>MACD_HIST</th>\n",
       "      <th>MACD</th>\n",
       "      <th>MACD_SIGNAL</th>\n",
       "      <th>MACD_HIST</th>\n",
       "    </tr>\n",
       "    <tr>\n",
       "      <th>Date</th>\n",
       "      <th></th>\n",
       "      <th></th>\n",
       "      <th></th>\n",
       "      <th></th>\n",
       "      <th></th>\n",
       "      <th></th>\n",
       "    </tr>\n",
       "  </thead>\n",
       "  <tbody>\n",
       "    <tr>\n",
       "      <th>2015-04-20</th>\n",
       "      <td>0.106247</td>\n",
       "      <td>-0.172275</td>\n",
       "      <td>0.278522</td>\n",
       "      <td>-0.049427</td>\n",
       "      <td>-0.254985</td>\n",
       "      <td>0.205558</td>\n",
       "    </tr>\n",
       "    <tr>\n",
       "      <th>2015-04-21</th>\n",
       "      <td>0.130655</td>\n",
       "      <td>-0.111689</td>\n",
       "      <td>0.242344</td>\n",
       "      <td>0.014328</td>\n",
       "      <td>-0.201122</td>\n",
       "      <td>0.215450</td>\n",
       "    </tr>\n",
       "    <tr>\n",
       "      <th>2015-04-22</th>\n",
       "      <td>0.169827</td>\n",
       "      <td>-0.055386</td>\n",
       "      <td>0.225213</td>\n",
       "      <td>0.092034</td>\n",
       "      <td>-0.142491</td>\n",
       "      <td>0.234525</td>\n",
       "    </tr>\n",
       "    <tr>\n",
       "      <th>2015-04-23</th>\n",
       "      <td>0.170662</td>\n",
       "      <td>-0.010176</td>\n",
       "      <td>0.180839</td>\n",
       "      <td>0.179787</td>\n",
       "      <td>-0.078035</td>\n",
       "      <td>0.257823</td>\n",
       "    </tr>\n",
       "    <tr>\n",
       "      <th>2015-04-24</th>\n",
       "      <td>0.147834</td>\n",
       "      <td>0.021426</td>\n",
       "      <td>0.126408</td>\n",
       "      <td>0.607858</td>\n",
       "      <td>0.059143</td>\n",
       "      <td>0.548715</td>\n",
       "    </tr>\n",
       "  </tbody>\n",
       "</table>\n",
       "</div>"
      ],
      "text/plain": [
       "                INTC                            MSFT                      \n",
       "                MACD MACD_SIGNAL MACD_HIST      MACD MACD_SIGNAL MACD_HIST\n",
       "Date                                                                      \n",
       "2015-04-20  0.106247   -0.172275  0.278522 -0.049427   -0.254985  0.205558\n",
       "2015-04-21  0.130655   -0.111689  0.242344  0.014328   -0.201122  0.215450\n",
       "2015-04-22  0.169827   -0.055386  0.225213  0.092034   -0.142491  0.234525\n",
       "2015-04-23  0.170662   -0.010176  0.180839  0.179787   -0.078035  0.257823\n",
       "2015-04-24  0.147834    0.021426  0.126408  0.607858    0.059143  0.548715"
      ]
     },
     "execution_count": 10,
     "metadata": {},
     "output_type": "execute_result"
    }
   ],
   "source": [
    "talib.MACD(close).tail()"
   ]
  },
  {
   "cell_type": "code",
   "execution_count": 11,
   "metadata": {
    "collapsed": false
   },
   "outputs": [
    {
     "data": {
      "text/html": [
       "<div style=\"max-height:1000px;max-width:1500px;overflow:auto;\">\n",
       "<table border=\"1\" class=\"dataframe\">\n",
       "  <thead>\n",
       "    <tr style=\"text-align: right;\">\n",
       "      <th></th>\n",
       "      <th>INTC</th>\n",
       "      <th>MSFT</th>\n",
       "    </tr>\n",
       "    <tr>\n",
       "      <th>Date</th>\n",
       "      <th></th>\n",
       "      <th></th>\n",
       "    </tr>\n",
       "  </thead>\n",
       "  <tbody>\n",
       "    <tr>\n",
       "      <th>2015-04-20</th>\n",
       "      <td>0.762301</td>\n",
       "      <td>0.769888</td>\n",
       "    </tr>\n",
       "    <tr>\n",
       "      <th>2015-04-21</th>\n",
       "      <td>0.757137</td>\n",
       "      <td>0.759181</td>\n",
       "    </tr>\n",
       "    <tr>\n",
       "      <th>2015-04-22</th>\n",
       "      <td>0.752342</td>\n",
       "      <td>0.746383</td>\n",
       "    </tr>\n",
       "    <tr>\n",
       "      <th>2015-04-23</th>\n",
       "      <td>0.747889</td>\n",
       "      <td>0.750927</td>\n",
       "    </tr>\n",
       "    <tr>\n",
       "      <th>2015-04-24</th>\n",
       "      <td>0.727325</td>\n",
       "      <td>1.040146</td>\n",
       "    </tr>\n",
       "  </tbody>\n",
       "</table>\n",
       "</div>"
      ],
      "text/plain": [
       "                INTC      MSFT\n",
       "Date                          \n",
       "2015-04-20  0.762301  0.769888\n",
       "2015-04-21  0.757137  0.759181\n",
       "2015-04-22  0.752342  0.746383\n",
       "2015-04-23  0.747889  0.750927\n",
       "2015-04-24  0.727325  1.040146"
      ]
     },
     "execution_count": 11,
     "metadata": {},
     "output_type": "execute_result"
    }
   ],
   "source": [
    "# average true range\n",
    "talib.ATR(pxs).tail()"
   ]
  },
  {
   "cell_type": "code",
   "execution_count": 12,
   "metadata": {
    "collapsed": false
   },
   "outputs": [
    {
     "data": {
      "text/html": [
       "<div style=\"max-height:1000px;max-width:1500px;overflow:auto;\">\n",
       "<table border=\"1\" class=\"dataframe\">\n",
       "  <thead>\n",
       "    <tr style=\"text-align: right;\">\n",
       "      <th></th>\n",
       "      <th>INTC</th>\n",
       "      <th>MSFT</th>\n",
       "    </tr>\n",
       "    <tr>\n",
       "      <th>Date</th>\n",
       "      <th></th>\n",
       "      <th></th>\n",
       "    </tr>\n",
       "  </thead>\n",
       "  <tbody>\n",
       "    <tr>\n",
       "      <th>2015-04-20</th>\n",
       "      <td>57.489183</td>\n",
       "      <td>59.218833</td>\n",
       "    </tr>\n",
       "    <tr>\n",
       "      <th>2015-04-21</th>\n",
       "      <td>54.419580</td>\n",
       "      <td>56.288763</td>\n",
       "    </tr>\n",
       "    <tr>\n",
       "      <th>2015-04-22</th>\n",
       "      <td>56.662369</td>\n",
       "      <td>59.112946</td>\n",
       "    </tr>\n",
       "    <tr>\n",
       "      <th>2015-04-23</th>\n",
       "      <td>53.020355</td>\n",
       "      <td>61.772796</td>\n",
       "    </tr>\n",
       "    <tr>\n",
       "      <th>2015-04-24</th>\n",
       "      <td>50.332676</td>\n",
       "      <td>79.951610</td>\n",
       "    </tr>\n",
       "  </tbody>\n",
       "</table>\n",
       "</div>"
      ],
      "text/plain": [
       "                 INTC       MSFT\n",
       "Date                            \n",
       "2015-04-20  57.489183  59.218833\n",
       "2015-04-21  54.419580  56.288763\n",
       "2015-04-22  56.662369  59.112946\n",
       "2015-04-23  53.020355  61.772796\n",
       "2015-04-24  50.332676  79.951610"
      ]
     },
     "execution_count": 12,
     "metadata": {},
     "output_type": "execute_result"
    }
   ],
   "source": [
    "talib.RSI(close).tail()"
   ]
  }
 ],
 "metadata": {
  "kernelspec": {
   "display_name": "Python 2",
   "language": "python",
   "name": "python2"
  },
  "language_info": {
   "codemirror_mode": {
    "name": "ipython",
    "version": 2
   },
   "file_extension": ".py",
   "mimetype": "text/x-python",
   "name": "python",
   "nbconvert_exporter": "python",
   "pygments_lexer": "ipython2",
   "version": "2.7.6"
  }
 },
 "nbformat": 4,
 "nbformat_minor": 0
}
